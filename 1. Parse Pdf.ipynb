{
 "cells": [
  {
   "cell_type": "code",
   "execution_count": 1,
   "outputs": [],
   "source": [
    "import json"
   ],
   "metadata": {
    "collapsed": false,
    "pycharm": {
     "name": "#%%\n"
    }
   }
  },
  {
   "cell_type": "code",
   "execution_count": 2,
   "metadata": {
    "collapsed": true
   },
   "outputs": [],
   "source": [
    "import tika\n",
    "tika.initVM()"
   ]
  },
  {
   "cell_type": "code",
   "execution_count": 3,
   "outputs": [
    {
     "name": "stderr",
     "output_type": "stream",
     "text": [
      "2022-09-26 13:11:07,678 [MainThread  ] [WARNI]  Failed to see startup log message; retrying...\n"
     ]
    }
   ],
   "source": [
    "from tika import parser\n",
    "parsed = parser.from_file('data/raw/novo_cantico.pdf')"
   ],
   "metadata": {
    "collapsed": false,
    "pycharm": {
     "name": "#%%\n"
    }
   }
  },
  {
   "cell_type": "code",
   "execution_count": 22,
   "outputs": [],
   "source": [
    "raw_lines = parsed[\"content\"].split('\\n')[54:]"
   ],
   "metadata": {
    "collapsed": false,
    "pycharm": {
     "name": "#%%\n"
    }
   }
  },
  {
   "cell_type": "code",
   "execution_count": 24,
   "outputs": [
    {
     "data": {
      "text/plain": "['1 Doxologia',\n '',\n 'Justo é o Senhor em seus santos caminhos,',\n 'Benigno em todas as suas obras. (bis)',\n 'Perto está o Senhor,',\n 'Perto está dos que o invocam,',\n 'De todos que o invocam',\n 'Em verdade. Aleluia! Aleluia!',\n '',\n '',\n '',\n '2 Reverência',\n '',\n 'O Senhor está no seu santo templo,',\n 'O Senhor está no seu santo templo!',\n 'Cale-se diante dele toda terra,',\n 'Cale-se diante dele toda terra!',\n '',\n '',\n '',\n '3 A Igreja em adoração',\n '',\n 'Eterno Pai teu povo congregado,',\n 'Humilde entoa o teu louvor aqui!',\n 'No dia para o culto reservado,',\n 'Com esperança olhamos para ti.',\n 'Teu santo livro ó grande Deus,tomamos',\n 'Com fé singela e reverente amor,',\n 'E, como atentos filhos procuramos',\n 'Ciência na palavra do Senhor.',\n '',\n 'Jesus! Aos teus benditos pés sentados',\n 'Queremos teu conselho receber,',\n 'E sendo por ti mesmo doutrinados,',\n 'De mais em mais na santa fé crescer.',\n 'Do mundo e seus encargos retirados',\n 'Queremos descansar em ti, Senhor,',\n 'Mirando os ricos bens entesourados',\n 'Na plenitude do teu vasto amor.',\n '',\n 'Ensina aos teus, Espírito divino,',\n 'Dissipa as trevas desses corações',\n 'E com a luz do teu celeste ensino,',\n 'Vem aclarar as santas instruções.',\n 'Aviva em nós as forças da memória,',\n 'Pois sempre mais queremos conhecer',\n 'O Rei dos céus, o Cristo cuja a glória',\n 'Enleva os santos anjos de prazer. Amém.',\n '',\n '',\n '',\n '4 Culto à Trindade',\n '',\n 'Deus está no templo!',\n 'Pai Onipotente!',\n 'A seus pés nos humilhamos.',\n 'Servos consagrados,',\n 'Reverentemente,',\n 'Ao Deus santo adoramos.',\n 'Por favor, com amor,',\n 'Espiritualmente',\n 'Deus está no templo!',\n '',\n 'Cristo está no templo!',\n 'Sumo benefício',\n 'Por seu sangue nos foi dado.',\n 'Ele, o bom Cordeiro,',\n 'Foi o sacrifício',\n 'Que expiou o vil pecado.',\n 'Escolheu e sofreu',\n 'O cabal suplício;',\n 'Cristo está no templo!',\n '',\n 'Tu, que estás no templo,',\n 'Preceptor divino,',\n 'E os corações habitas;',\n 'Tu, paciente Mestre,',\n 'Dá-nos teu ensino,',\n 'Aclarando as leis benditas.',\n 'Que prazer conhecer',\n 'A graça infinita!',\n 'Sim, está no templo!',\n '',\n '',\n '',\n '5 Trindade adorada',\n '',\n 'Glória seja ao Pai,',\n 'Ao Filho e ao Santo Espírito,',\n 'Como era no princípio,',\n 'É hoje e para sempre,',\n 'Eternamente! Amém! Amém!',\n '',\n '',\n '',\n '6 Doxologia',\n '',\n 'A Deus, supremo Benfeitor,',\n 'Anjos e homens dêem louvor;',\n 'A Deus o Filho, a Deus o Pai,',\n 'E a Deus Espírito, glória dai. Amém.',\n '',\n '',\n '',\n '7 Glória à Trindade',\n '',\n 'A ti, meu Criador,',\n 'Dos altos céus Senhor,',\n 'Eu quero honrar.',\n 'Aceita a adoração',\n 'Que a voz e o coração',\n 'Te vêm, bondoso Pai,',\n 'Aqui prestar.',\n '',\n 'A ti, Emanuel,',\n 'Por teu amor fiel',\n 'Rendo eu louvor.',\n 'Do céu trouxeste a luz,',\n 'Por mim sofreste a cruz,',\n 'Bendito sejas, pois,',\n 'Meu Redentor',\n '',\n 'A ti, Consolador,',\n 'Divino Preceptor,',\n 'Eu louvarei.',\n 'Com teu poder sem par,',\n 'Oh, vem me iluminar,',\n 'E assim, ao teu fulgor,',\n 'Eu brilharei. Amém.',\n '',\n '',\n '',\n '8 Adoração à Trindade.',\n '',\n 'Grande Deus, o teu louvor',\n 'Hoje, unidos, entoamos;',\n 'Teu excelso e doce amor',\n 'Com os anjos celebramos.',\n 'E em adoração a ti,',\n 'Vimos bendizer-te aqui.',\n '',\n 'Cristo, Salvador veraz,',\n 'Com poder em nós domina!',\n 'Tua graça e tua paz,',\n 'Ó Senhor, ao mundo ensina.',\n 'Redimido, em tua luz',\n 'Vem fazê-lo andar, Jesus!',\n '',\n 'Santo Espírito eternal,',\n 'Oh, dirige as nossas mentes',\n 'Para, em comunhão real,',\n 'Te buscarmos reverentes;',\n 'E o nosso coração',\n 'Se encherá de gratidão.',\n '',\n 'Ó Deus Trino, pois a ti',\n 'Sejam, sem cessar, rendidas',\n 'Pelos filhos teus aqui,',\n 'Honra e glória sem medida.',\n 'Infinito é o teu amor!',\n 'Cantem todos teu louvor! Amém.',\n '',\n '',\n '',\n '9 Aleluia ao Deus trino',\n '',\n 'A ti, ó Deus, Altíssimo Senhor,',\n 'Eterno Pai, supremo Benfeitor,',\n 'Teus filhos vêm, alegres, dar louvor.',\n 'Aleluia! Aleluia!',\n '',\n 'A ti, Deus Filho, Salvador Jesus,',\n 'Da graça a fonte, da verdade a luz,',\n 'Por teu amor mostrado sobre a cruz,',\n 'Aleluia! Aleluia!',\n '',\n 'A ti, ó Deus, Espírito de amor,',\n 'De nossas almas santificador.',\n 'Mestre divino, bom Consolador,',\n 'Aleluia! Aleluia!',\n '',\n 'Ó Deus Triúno, vem-nos conceder',\n 'A plenitude do real poder,',\n 'E as nossas almas vem, aqui, reger.',\n 'Aleluia! Aleluia! Amém.',\n '',\n '',\n '',\n '10 A criação e seu Criador',\n '',\n 'Vós criaturas de Deus Pai,',\n 'Todos erguei a voz, cantai!',\n 'Oh, louvai-o! Aleluia!',\n 'Tu sol dourado a refulgir,',\n 'Tu, lua em prata a reluzir,',\n 'Oh, louvai-o! Oh, louvai-o!',\n 'Aleluia! Aleluia! Aleluia!',\n '',\n 'Oh, boa terra que nos dás',\n 'Infindas bênçãos, canta já!',\n 'Oh, louvai-o! Aleluia!',\n 'Frutos e flores, juntos dai',\n 'A glória a Deus, Senhor e Pai.',\n 'Oh, louvai-o! Oh, louvai-o!',\n 'Aleluia! Aleluia! Aleluia!',\n '',\n 'Vós, homens sábios e de bem,,',\n 'A todos proclamai também!',\n 'Oh, louvai-o! Aleluia!',\n 'Louvor ao Filho, glória ao Pai,',\n 'E ao Santo Espírito louvai!',\n 'Oh, louvai-o! Oh, louvai-o!',\n 'Aleluia! Aleluia! Aleluia!',\n '',\n '',\n '',\n '11 Trindade santíssima',\n '',\n 'Santo! Santo! Santo! Deus Onipotente!',\n 'Louvam nossas vozes teu nome com fervor!',\n 'Santo! Santo! Santo! Justo e compassivo!',\n 'És Deus Triúno, Excelso Criador!',\n '',\n 'Santo! Santo! Santo! Nós os pecadores,',\n 'Não podemos ver tua glória sem temor.',\n 'Tu somente és Santo! Só tu és perfeito,',\n 'Deus Soberano, imenso em teu amor.',\n '',\n 'Santo! Santo! Santo! Todos os remidos,',\n 'Juntos com os anjos, proclamam teu louvor!',\n 'Antes de formar-se o firmamento e a terra',\n 'Eras, e sempre és, e hás de ser, Senhor!',\n '',\n 'Santo! Santo! Santo! Deus Onipotente!',\n 'Tuas obras louvam teu nome com fervor.',\n 'Santo! Santo! Santo! Justo e compassivo!',\n 'Deus Soberano, Excelso Criador! Amém',\n '',\n '',\n '',\n '12 Glória a Deus',\n '',\n 'Santo! Santo! Santo!',\n 'Deus dos Exércitos,',\n 'A terra e os céus',\n 'Proclamam tua glória.',\n 'Glória a ti, glória a ti, ó Deus,',\n 'Eternamente. Amém.',\n '',\n '',\n '',\n '13 Contemplação',\n '',\n 'Se nos cega o sol ardente',\n 'Quando visto em seu fulgor,',\n 'Quem contemplará Aquele',\n 'Que do sol é Criador?',\n 'Patriarcas não puderam',\n 'O seu rosto contemplar,',\n 'Nem Adão chegou a vê-lo',\n 'Antes mesmo de pecar!',\n '',\n 'Luz perante a qual é trevas',\n 'Mesmo o sol a fulgurar!',\n 'Nossos olhos pecadores',\n 'Não te podem contemplar!',\n 'Fogo em cima da arca santa,',\n 'Sarça ardente do Sinai',\n 'São figuras desta glória',\n 'Do Senhor e Eterno Pai.',\n '',\n 'Para termos nós com ele',\n 'Franca e doce comunhão,',\n 'Cristo, o Filho fez-se carne,',\n 'Fez-se nossa Redenção!',\n 'Para que na glória eterna',\n 'O vejamos já sem véu,',\n 'Cristo padeceu a morte,',\n 'O caminho abrindo ao céu.',\n '',\n '',\n '',\n '14 Louvor',\n '',\n 'Vamos nós louvar a Deus,',\n 'Vamos! Vamos!',\n 'Ao Senhor de toda a luz,',\n 'Santo! Santo!',\n 'Cantem louvem lá nos céus',\n 'Nosso Deus e Rei Jesus!',\n 'Exaltado seja Deus,',\n 'Santo! Santo!',\n '',\n 'Exaltado seja nosso Deus e Pai!',\n 'Exaltado! Para sempre o exaltai!',\n 'Cantem, louvem lá nos céus',\n 'Nosso Deus e Rei Jesus!',\n 'Exaltado seja Deus,',\n 'Santo! Santo!',\n '',\n 'Nosso Deus, eterno Pai,',\n 'Santo! Santo!',\n 'Deu-nos bênçãos por Jesus,',\n 'Vede! Vede!',\n 'Ao Senhor glorificai,',\n 'Vós, os salvos pela cruz,',\n 'Sim, conosco glória dai,',\n 'Vinde! Vinde!',\n '',\n 'Exaltemos nosso Deus,',\n 'Santo! Santo!',\n 'Exaltemos com fervor,',\n 'Hoje! Hoje!',\n 'Tributemos, todos nós,',\n 'Hinos santos de louvor,',\n 'Sim, louvor em alta voz,',\n 'Hoje! Hoje!',\n '',\n '',\n '',\n '15 Doxologia',\n '',\n 'Tua, ó Deus, é toda a grandeza',\n 'E o poder e a glória e a vitória',\n 'E os louvores; vitória e louvores!',\n 'Tua, ó Deus, tua, ó Deus, é a grandeza',\n 'E o poder, a grandeza e o poder',\n 'E a glória e a vitória e os louvores eternos.',\n 'Pois tudo o que está no mar,',\n 'E está no céu e na terra é teu!',\n 'Teu é o domínio, teu é o domínio,',\n 'Ó Senhor! E Tu és acima de todos os reis,',\n 'De todos os reis. Amém. Amém. Aleluia!',\n '',\n '',\n '',\n '16 Louvor a Deus',\n '',\n 'Louvai a Deus,',\n 'Soberano Senhor do que é feito.',\n 'Louvai-o sim,',\n 'De vossa alma, tesouro perfeito!',\n 'A Deus cantai',\n 'E, com fervor, tributai',\n 'Profundo amor e respeito.',\n '',\n 'Louvai a Deus',\n 'Que vos faz prosperar dia a dia;',\n 'E, com amor,',\n 'Vos defende e abençoa a porfia.',\n 'Lembrai também,',\n 'Que o poderoso vos vem',\n 'Fazer feliz companhia.',\n '',\n '',\n '',\n '17 Deus seja louvado',\n '',\n 'Seja louvado o Deus supremo,',\n 'Deus revelado em Israel!',\n 'Onipotente, prodígios obra,',\n 'Sempre clemente, sempre fiel.',\n '',\n 'Seja louvado o Deus supremo,',\n 'Deus revelado em Israel',\n '',\n 'Louvor perene só Deus merece!',\n 'Cantai, não cesse o seu louvor!',\n 'De todos seja sempre exaltado,',\n 'E cante a Igreja com terno amor.',\n '',\n '',\n '',\n '18 Deus dos antigos',\n '',\n 'Deus dos antigos, cuja forte mão',\n 'Rege e sustém os astros na amplidão!',\n 'Ó Soberano, excelso Criador,',\n 'Com gratidão cantamos teu louvor!',\n '',\n 'Desde o passado foste nossa luz,',\n 'Sol que até hoje com fulgor reluz!',\n 'Sê nosso Esteio, Guia e Proteção,',\n 'Tua Palavra, lei e direção.',\n '',\n 'Da guerra atroz, do crime e assolação,',\n 'Dos tempos maus de um mundo em confusão,',\n 'Seja o teu braço o nosso defensor,',\n 'Pois confiamos sempre em ti Senhor!',\n '',\n 'Teu povo, ó Deus, assiste me seu labor,',\n 'No testemunho do teu grande amor,',\n 'As nossas vidas vem fortalecer',\n 'Para o teu nome sempre engrandecer. Amém',\n '',\n '',\n '',\n '19 Rei sublime',\n '',\n 'Ó Rei sublime em majestade e glória,',\n 'Sobre as milícias do celeste além,',\n 'Ouve o louvor, os hinos de vitória,',\n 'Dos que de ti recebem todo bem!',\n '',\n 'Vinde, ó remidos, filhos de Deus!',\n 'Cantai louvores que alcancem os céus!',\n '',\n 'Nos altos céus louvor a Deus ressoam,',\n 'De gratidão ao soberano amor!',\n 'Os redimidos com fervor entoam',\n 'O nome excelso de seu Benfeitor.',\n '',\n 'Eterno Deus, teus filhos vês prostrados',\n 'Perante o brilho da superna luz,',\n 'Pois do pecado foram resgatados,',\n 'E agora rendem glórias a Jesus!',\n '',\n '',\n '',\n '20 Glorificação à Trindade',\n '',\n 'Louvor',\n '',\n 'A ti, ó Deus louvamos,',\n 'E por nosso Senhor te confessamos!',\n 'A ti, ó Pai da Eternidade, adora toda a terra;',\n 'A ti, o coro angélico, A ti, todo o poder do céu,',\n 'A ti, querubins e serafins proclamam sem cessar;',\n '“Santo! Santo! Santo! Senhor Deus dos Exércitos!',\n '',\n 'Os céus e a terra estão cheios',\n 'Da majestade da sua glória!”',\n 'A ti, o glorioso coro apostólico louva;',\n 'A ti, a congregação dos profetas louva;',\n 'A ti, o nobre exército dos mártires louva;',\n 'A santa Igreja reconhece por toda a terra a ti:',\n 'Ao Deus Pai, infinito Dominador!',\n 'E ao teu venerável, vero e único Filho,',\n 'E ao Santo Espírito, Consolador.',\n '',\n 'Declaração',\n '',\n 'Tu és Rei da glória, ó Jesus!',\n 'Tu és o sempiterno Filho de Deus!',\n 'Quando vieste resgatar os homens,',\n 'Não te escusaste a nascer do ventre da virgem!',\n 'Quando venceste a morte e seu aguilhão,',\n 'Logo abriste a teus servos',\n '',\n 'As portas do reino dos céus.',\n 'Estás sentado à destra de Deus',\n 'No trono Onipotente.',\n 'Cremos que voltarás e aqui serás Juiz.',\n 'Portanto, nós, remidos com teu sangue,',\n 'Suplicamos teu auxílio!',\n 'Nós, que já estamos alistados com teus santos',\n 'Na glória eterna.',\n '',\n 'Oração',\n '',\n 'Senhor, guarda o povo e abençoa-nos.',\n 'Reina e guarda-nos para sempre.',\n 'Noite de dia te adoramos',\n 'E glorificamos teu nome sem par',\n 'Senhor, concede que hoje',\n '',\n '',\n '',\n 'Nós vençamos o pecado!',\n 'Eterno e bondoso Pai, compadece-te de nós!',\n 'Concede-nos a tua misericórdia,',\n 'Pois confiamos e esperamos em ti.',\n 'Senhor! Em ti, em ti eu espero;',\n 'Nunca eu seja, nunca eu seja confundido. Amém.',\n '',\n '',\n '',\n '21 Deus de Abraão',\n '',\n 'Ao Deus de Abraão louvai, do vasto céu Senhor,',\n 'Eterno e poderoso Pai e Deus de amor!',\n 'Augusto Jeová que terra e céu criou,',\n 'Minha alma o Nome exaltará do grande EU-SOU.',\n '',\n 'Ao Deus de Abraão louvai! Eis por mandado seu,',\n 'Minha alma deixa a terra e vai gozar no céu.',\n 'O mundo desprezei, seu lucro e seu louvor,',\n 'E Deus por meu quinhão tomei e protetor.',\n '',\n 'Meu Guia Deus será! Seu infinito amor',\n 'Feliz em tudo me fará por onde eu for.',\n 'Tomou-me pela mão, na trevas deu-me luz,',\n 'E dá-me eterna salvação por meu Jesus.',\n '',\n 'Meu Deus por si jurou, eu nele confiei!',\n 'E para o céu que preparou eu subirei.',\n 'Sua face eu hei de ver, confiado em seu amor,',\n 'E para sempre engrandecer meu Redentor.',\n '',\n '',\n '',\n '22 Os céus proclamam',\n '',\n 'Altamente os céus proclamam',\n 'Seu divino Criador!',\n 'Anunciam o firmamento',\n 'Tua obras ó Senhor!',\n 'Incessantes, noite e dia,',\n 'Dão sinais do teu poder,',\n 'Sem palavras, proclamando',\n 'Deus excelso no saber!',\n '',\n 'Majestoso o sol caminha',\n 'Pelos céus, com resplendor!',\n 'Exultando, em seu percurso,',\n 'Enche o mundo de calor.',\n 'Todo o vasto universo',\n 'Canta, em coro, teu louvor!',\n 'E a nós vem doce ensino',\n 'Da Palavra do Senhor.',\n '',\n 'Tua Lei - quão preciosa!-',\n 'Brilha mais que a clara luz;',\n 'Esclarece as nossas mentes,',\n 'Guia as almas a Jesus,',\n 'Em tua graça meditando,',\n 'Cantarei, ó bom Senhor,',\n 'E será na minha boca',\n 'Agradável o teu louvor. Amém.',\n '',\n '',\n '',\n '23 Adoração ao Criador',\n '',\n 'Oh! Vinde adorar ao Deus criador,',\n 'Da terra e dos céus eterno Senhor,',\n 'Ao Deus que, habitando no meio da luz,',\n 'A nós se revela por Cristo Jesus.',\n '',\n 'Seu grande poder deveis contemplar',\n 'No céu estrelado, no amplo mar.',\n 'A gota de orvalho, a mínima flor,',\n 'Proclamam, constantes, ser Deus seu Autor.',\n '',\n 'Oh! Vinde adorar ao Deus Salvador,',\n 'Que em Cristo Jesus nos mostra favor.',\n 'Ao Deus que, benigno, com graça e perdão,',\n 'Pecados cobrindo nos dá redenção.',\n '',\n '',\n '',\n '24 Convite ao louvor',\n '',\n 'Vinde irmãos louvar a Deus,',\n 'Criador da terra e céus',\n '',\n 'Exaltemos o Senhor!',\n 'Infinito é seu amor!',\n '',\n 'Glória em honra ao grande Rei;',\n 'Alta santa é sua lei.',\n '',\n 'Age com poder real,',\n 'Com grandeza divinal.',\n '',\n 'Dia e noite a sua mão',\n 'Desenvolve o tenro grão.',\n '',\n 'Com os dons do seu poder',\n 'Nossas vidas faz crescer.',\n '',\n '',\n '',\n '25 O Criador de tudo',\n '',\n 'Deus, do infinito o Criador,',\n 'Que deste aos astros seu fulgor,',\n 'Tuas obras te proclamam!',\n 'Ao explorarmos a amplidão,',\n 'Obra sem par da tua mão,',\n 'Extasiados te louvamos!',\n 'Aleluia! Aleluia! Aleluia!',\n '',\n 'Ergue-se o homem para o céu,',\n 'Deixa o planeta em que nasceu;',\n 'Oh, conquista sem limites!',\n 'Como havemos de entender',\n 'Que Deus quisesse aqui viver?',\n 'Deus eterno, entre os homens!',\n 'Aleluia! Aleluia! Aleluia!',\n '',\n 'Hoje há problemas entre nós',\n 'Por não ouvirmos tua voz.',\n 'Pai, perdoa as nossas faltas!',\n 'Que nossas vidas em Jesus',\n 'Busquem guarida, paz e luz,',\n 'E teu nome celebremos;',\n 'Aleluia! Aleluia1 Aleluia!',\n '',\n 'No grande plano divinal,',\n 'Dessa harmonia universal',\n 'Deus com grande amor salvou-nos!',\n 'Ele nos deixa conhecer',\n 'Toda extensão de seu poder',\n 'Revelado no universo!',\n 'Aleluia! Aleluia! Aleluia!',\n '',\n '',\n '',\n '26 Ao Deus grandioso',\n '',\n 'Senhor meu Deus, quando eu maravilhado',\n 'Os grandes feitos vejo de tua mão,',\n 'Estrelas, mundos e trovões rolando,',\n 'A proclamar teu nome na amplidão.',\n '',\n 'Canta minh’alma, então, a ti Senhor:',\n 'Grandioso és Tu, grandioso és Tu!',\n 'Canta minh’alma, então, a ti Senhor:',\n 'Grandioso és Tu, grandioso és Tu!',\n '',\n 'Quando atravesso bosques e florestas,',\n 'Ouvindo, à brisa, pássaros cantar,',\n 'Ou vejo, além, montanhas altaneiras',\n 'O teu poder em, glória proclamar,',\n '',\n 'Quando percebo que na cruz maldita,',\n 'Por teu amor Jesus morreu por mim,',\n 'E me livrou do jugo do pecado,',\n 'Ali vertendo sangue carmesim,',\n '',\n 'Quando afinal em resplendor e glória,',\n 'Jesus abrir as portas da mansão,',\n 'Eu hei de estar de joelhos entre os santos,',\n 'Na mais humilde e vera adoração,',\n '',\n 'E então cantar eternamente ali:',\n 'Grandioso és Tu, grandioso és Tu!',\n 'E então cantar eternamente ali:',\n 'Grandioso és Tu, grandioso és Tu!',\n '',\n '',\n '',\n '27 Um hino ao Senhor',\n '',\n 'As grutas, as rochas imensas,',\n 'Dos mundos o grande esplendor,',\n 'Proclamam bem alto, constantes',\n 'Um hino ao teu nome, Senhor!',\n '',\n 'Nos céus e no mar e na terra,',\n 'Nos bosques, nos prados em flor,',\n 'No fragoso alcantil, na amplitude celeste,',\n 'Um hino ressoa ao Senhor!',\n '',\n 'Nos céus, as estrelas brilhantes,',\n 'Dos mares o grande fragor,',\n 'E as brisas entoam, ridentes,',\n 'Um hino ao teu nome, Senhor!',\n '',\n 'As aves alegres, na mata,',\n 'Por entre as ramagens em flor,',\n 'Exultam em coro, cantando',\n 'Um hino ao teu nome, Senhor!',\n '',\n 'E tu, pecador que vagueias,',\n 'Que fazes ao teu Criador?',\n 'Não achas momento em que cantes',\n 'Um hino de glória ao Senhor!',\n '',\n '',\n '',\n '28 Coroação',\n '',\n 'Tuas obras te coroam',\n 'Como um halo de esplendor!',\n 'Astros, anjos, céus entoam',\n 'Hino eterno a ti Senhor!',\n 'Campos, matas, vales, montes,',\n 'Verde outeiro e verde mar,',\n 'Aves e sonoras fontes',\n 'Formam coro singular!',\n '',\n 'Nós, mortais, por ti remidos,',\n 'Deus de glória, Deus de amor,',\n 'Corações aos céus erguidos,',\n 'Celebramos teu louvor!',\n 'Revelaste amor profundo,',\n 'Insondável, sem igual,',\n 'Enviando Cristo ao mundo',\n 'A vencer por nós o mal!',\n '',\n 'Fonte és de alegria e vida,',\n 'És do bem o Inspirador;',\n 'Tua graça nos convida',\n 'A viver em mútuo amor',\n 'Quais alegres peregrinos,',\n 'Sempre em marcha triunfal,',\n 'Cantaremos gratos hinos',\n 'Na jornada até o final!',\n '',\n '',\n '',\n '29 Louvor',\n '',\n 'Ó minha alma, a Deus bendize',\n 'Em humilde adoração,',\n 'Nada há mais que te escravize',\n 'No pecado e escuridão!',\n 'Oh, louvai-o! Oh, louvai-o!',\n 'Ele é o Rei da criação!',\n '',\n 'Pelo seu favor e graça',\n 'Que outorgou a nossos pais,',\n 'E por tudo que ele faça,',\n 'Bendizei-o mais e mais!',\n 'Oh, louvai-o! Oh, louvai-o!',\n 'Como nossos ancestrais.',\n '',\n 'Se estivermos em perigo,',\n 'Nosso Deus nos guardará;',\n 'Ele as trevas e o inimigo',\n 'Para sempre abaterá!',\n 'Oh, louvai-o! Oh, louvai-o!',\n 'Pelas bênçãos que nos dá!',\n '',\n 'Anjos e homens, reverentes,',\n 'Adorai-o com fervor;',\n 'Lua, estrela, sol luzente,',\n 'Que ao espaço dais fulgor,',\n 'Oh, louvai-o! Oh louvai-o!',\n 'Pois é Deus de excelso amor!',\n '',\n '',\n '',\n '30 Providência de Deus (na criação)',\n '',\n 'Ó Deus, ó Providência! Com teu real poder',\n 'Trouxeste à existência o mundo, todo ser!',\n 'E a tudo que criaste, com benfazeja mão,',\n 'As bênçãos não negaste da tua proteção.',\n '',\n 'Eterno Deus, ó Deus sem par,',\n 'A criação, com gratidão',\n 'Te vem louvar!',\n 'Nos céus teu nome aclamam',\n 'Os astros, que são teus;',\n 'A terra e o mar proclamam:',\n '“És o nosso Deus!”',\n '',\n 'Ao sol resplandecente e à vastidão do mar',\n 'Traçaste, ó Deus potente, as leis que irão guardar.',\n 'E a tenra e pequenina florzinha em botão,',\n 'A tua mão divina conserva em proteção.',\n '',\n 'Dos campos, a verdura, dos frutos, o sabor,',\n 'Celebram a ternura do teu constante amor!',\n 'E a natureza inteira, por toda a Criação,',\n 'Proclama, alvissareira, a tua proteção. Amém.',\n '',\n '',\n '',\n '31 Providência de Deus (na redenção)',\n '',\n 'Ó Deus, ó Providência! Sem ti não há viver!',\n 'Vem dar-nos a assistência do teu real poder!',\n 'Tão só em ti confiamos e em tua proteção,',\n 'Pois só em ti achamos conforto e redenção.',\n '',\n 'És nosso Pai, ó Deus de amor!',\n 'Teus filhos vêm aqui, também,',\n 'Cantar louvor!',\n 'Ao mundo renunciamos,',\n 'Agora somos teus;',\n 'E alegres proclamamos:',\n '“És o nosso Deus!”',\n '',\n 'Ao homem Tu criaste, de ti vivo exemplar;',\n 'Na terra o colocaste a fim de te louvar.',\n 'Caído embora esteja, estendes tua mão,',\n 'Na graça benfazeja de tua Redenção.',\n '',\n 'Em Cristo, o Filho amado, a tua graça vem',\n 'Cobrir-nos o pecado e dar-nos todo o bem,',\n 'Reais munificências gozamos nós, então,',\n 'Nas terna providências de tua Redenção. Amém.',\n '',\n '',\n '',\n '32 O Deus fiel',\n '',\n 'Tu és fiel, Senhor, meu Pai celeste,',\n 'Teus filhos sabem que não falharás!',\n 'Nunca mudaste, Tu nunca faltaste,',\n 'Tal como eras Tu sempre serás.',\n '',\n 'Tu és fiel Senhor! Tu és fiel Senhor!',\n 'Dia após dia, com bênçãos sem fim,',\n 'Tua mercê nos sustenta e nos guarda;',\n 'Tu és fiel, Senhor, fiel assim.',\n '',\n 'Flores e frutos, montanhas e mares,',\n 'Sol, luz, estrelas brilhando no céu,',\n 'Tudo criaste na terra e nos ares,',\n 'Para louvar-te, Senhor, que és fiel.',\n '',\n 'Pleno perdão tu dás! Que segurança!',\n 'Cada momento me guias, Senhor,',\n 'E no porvir, ó! Que doce esperança',\n 'Desfrutarei do teu rico favor.',\n '',\n '',\n '',\n '33 Maravilhas Divinas',\n '',\n 'Ao Deus de amor e de imensa bondade,',\n 'Com voz de júbilo, vinde aclamai!',\n 'Com coração transbordante de graças,',\n 'Seu grande amor, todos, vinde louvai.',\n '',\n 'No céu, na terra, que maravilhas',\n 'Vai operando o poder do Senhor!',\n 'Mas seu amor, aos homens perdidos,',\n 'Das maravilhas é sempre a maior.',\n '',\n 'Já nossos pais nos contaram a história',\n 'De Deus, falando com muito prazer,',\n 'Que nas tristezas, nos grandes perigos,',\n 'Ele os salvou por seu grande poder.',\n '',\n 'Hoje também, nós bem alto, cantamos',\n 'Que as orações ele nos atendeu:',\n 'Seu forte braço, que é tão compassivo',\n 'Em nosso auxílio ele sempre estendeu.',\n '',\n 'Como até hoje, e daqui para frente,',\n 'Ele será nosso eterno poder,',\n 'Nosso castelo bem forte e seguro,',\n 'E nossa Fonte de excelso prazer.',\n '',\n '',\n '',\n '34 Convite ao louvor',\n '',\n 'Demos com alegre som',\n 'Glória a Deus, porque ele é bom.',\n '',\n 'Sua graça Deus nos dá',\n 'E jamais nos deixará',\n '',\n 'Com poder ele ordenou',\n 'E no mundo a luz raiou.',\n '',\n 'Com olhar de compaixão',\n 'Viu a nossa perdição.',\n '',\n 'O seu povo abençoou,',\n 'No deserto ele o guiou.',\n '',\n 'Demos com alegre som',\n 'Glória a Deus, porque ele é bom.',\n '',\n '',\n '',\n '35 Adoração e súplica',\n '',\n 'Teu culto agora, aqui, Senhor,',\n 'Nós vimos celebrar,',\n 'Cantando, juntos, teu louvor,',\n 'Teu livro a meditar.',\n '',\n 'À nossa vera adoração',\n 'Presente estás, Senhor.',\n 'Fazendo o nosso coração',\n 'Sentir teu grande amor.',\n '',\n 'Atende nossas petições,',\n 'Ó poderoso Deus!',\n 'Concede aos nossos corações',\n 'Antegozar os céus. Amém.',\n '',\n '',\n '',\n '36 Exaltação',\n '',\n 'De toda a terra e das nações,',\n 'Louvor a Cristo entoai!',\n 'Em alta voz, dos corações',\n 'O Nome de Jesus cantai.',\n '',\n 'O dom supremo, divinal,',\n 'Justiça eterna e santo amor,',\n 'De litoral em litoral,',\n 'Serão cantados ao Senhor',\n '',\n 'Em toda língua bendizei',\n 'A Deus, Autor da Criação!',\n 'Em toda terra engrandecei',\n 'Jesus que trouxe a Redenção!',\n '',\n '',\n '',\n '37 O Santo Nome',\n '',\n 'Jesus, teu nome é santo,',\n 'Amável teu querer.',\n 'Louvor supremo e puro amor',\n 'Queremos te render!',\n 'Poder e honra e glória a ti',\n 'Nós vimos tributar,',\n 'E com sincera devoção,',\n 'Teu culto celebrar!',\n '',\n 'Jesus, teu nome é santo,',\n 'Merece o nosso amor!',\n 'És nosso Deus, que estás nos céus,',\n 'E nosso protetor.',\n 'Incomparável és, Senhor,',\n 'Em tua compaixão;',\n 'Quiseste, para o mal vencer,',\n 'Fazer-te nosso irmão!',\n '',\n 'Jesus, teu nome é santo,',\n 'Venceste sobre a cruz!',\n 'O teu sofrer, o teu penar,',\n 'À vida nos conduz.',\n 'Glorificado estás nos céus,',\n 'Atento à adoração',\n 'Que vimos nós, fiéis, prestar',\n 'Com grato coração! Amém.',\n '',\n '',\n '',\n '38 Louvores sem fim',\n '',\n 'Mil vezes mil louvores rendamos a Jesus,',\n 'Que da mais alta glória desceu até à cruz!',\n 'Por sua imensa graça, por seu insigne amor,',\n 'Por todos seja sempre louvado o Salvador.',\n '',\n 'Mil vezes, sim, mil vezes, sim,',\n 'Louvores ao Senhor',\n 'Que nos amou e nos salvou,',\n 'Bendito Salvador!',\n '',\n 'Eis ao redor do trono do Redentor Jesus,',\n 'Milhares de milhares em refulgente luz!',\n 'Com reverência adoram o grande Salvador,',\n 'E ao bom Cordeiro rendem a honra e o louvor.',\n '',\n 'Oh! Vinde agora, todos, também a celebrar',\n 'As glórias sempiternas do Redentor sem par!',\n 'Com vozes de vitória seu Nome proclamai!',\n 'Mil vezes mil louvores a Cristo tributai!',\n '',\n '',\n '',\n '39 Exaltação e louvor',\n '',\n 'Oh, vinde crentes dar louvor ao grande Rei Jesus,',\n 'Que para a nossa Redenção morreu na amarga cruz;',\n 'Seu sangue derramou, de tudo me lavou:',\n 'Mais alvo do que a neve me tornou.',\n '',\n 'O sangue de Jesus me lavou, me lavou;',\n 'O sangue de Jesus me lavou, me lavou!',\n 'Alegre, cantarei louvores ao meu Rei,',\n 'Ao meu Senhor Jesus que me salvou!',\n '',\n 'Oh, vinde unir-vos a Jesus na luta contra o mal,',\n 'E, com o grande Salvador em marcha triunfal,',\n 'A todos proclamar que seu amor sem par',\n 'O fez na cruz seu sangue derramar.',\n '',\n 'O chefe da milícia é Jesus, meu Salvador,',\n 'O Rei dos reis, o Redentor, o eterno e bom Senhor,',\n 'A tudo vencerá, vitória nos dará,',\n 'E à glória eterna os seus conduzirá.',\n '',\n '',\n '',\n '40 Cântico ao salvador',\n '',\n 'Cantai a Cristo, o Salvador,',\n 'Que tanto nos amou,',\n 'E, para nossa Redenção,',\n 'Seu sangue derramou!',\n '',\n 'Salvação! Salvação!',\n 'Alcançou-nos o Filho de Deus;',\n 'Salvação! Salvação!',\n 'Aleluia ao Filho de Deus!',\n '',\n 'Cantai o amor celestial,',\n 'Amor do grande Deus,',\n 'Divina flama a consumir',\n 'Os vis pecados meus!',\n '',\n 'De Cristo, o excelso, infindo amor,',\n 'Oh, vinde publicai!',\n ...]"
     },
     "execution_count": 24,
     "metadata": {},
     "output_type": "execute_result"
    }
   ],
   "source": [
    "raw_lines"
   ],
   "metadata": {
    "collapsed": false,
    "pycharm": {
     "name": "#%%\n"
    }
   }
  },
  {
   "cell_type": "code",
   "execution_count": 29,
   "outputs": [],
   "source": [
    "hymns = []\n",
    "cell = {}\n",
    "verse = []\n",
    "for line in raw_lines:\n",
    "\n",
    "    if line != '' and line[0].isdigit():\n",
    "\n",
    "        if cell != {}: hymns.append(cell)\n",
    "\n",
    "        cell = {\n",
    "            'title': line,\n",
    "            'number': line.split(' ')[0],\n",
    "            'letter': []\n",
    "        }\n",
    "\n",
    "        verse = []\n",
    "\n",
    "    if line == '' and verse != []:\n",
    "        str_verse = '\\n'.join(verse)\n",
    "        cell['letter'].append(str_verse)\n",
    "        verse = []\n",
    "\n",
    "    if line != '' and not line[0].isdigit():\n",
    "\n",
    "        verse.append(line)"
   ],
   "metadata": {
    "collapsed": false,
    "pycharm": {
     "name": "#%%\n"
    }
   }
  },
  {
   "cell_type": "code",
   "execution_count": 38,
   "outputs": [],
   "source": [
    "for hymn in hymns:\n",
    "\n",
    "    json_object = json.dumps(hymn, indent=4)\n",
    "\n",
    "    file_number = hymn['number']\n",
    "\n",
    "    file_name = f'data/hymn/{file_number}.json'\n",
    "\n",
    "    with open(file_name, \"w\") as outfile:\n",
    "        outfile.write(json_object)"
   ],
   "metadata": {
    "collapsed": false,
    "pycharm": {
     "name": "#%%\n"
    }
   }
  },
  {
   "cell_type": "code",
   "execution_count": null,
   "outputs": [],
   "source": [],
   "metadata": {
    "collapsed": false,
    "pycharm": {
     "name": "#%%\n"
    }
   }
  }
 ],
 "metadata": {
  "kernelspec": {
   "display_name": "Python 3",
   "language": "python",
   "name": "python3"
  },
  "language_info": {
   "codemirror_mode": {
    "name": "ipython",
    "version": 2
   },
   "file_extension": ".py",
   "mimetype": "text/x-python",
   "name": "python",
   "nbconvert_exporter": "python",
   "pygments_lexer": "ipython2",
   "version": "2.7.6"
  }
 },
 "nbformat": 4,
 "nbformat_minor": 0
}